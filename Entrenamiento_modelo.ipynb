{
 "cells": [
  {
   "cell_type": "code",
   "execution_count": 23,
   "id": "b8db91b1",
   "metadata": {},
   "outputs": [
    {
     "ename": "FileNotFoundError",
     "evalue": "[WinError 3] El sistema no puede encontrar la ruta especificada: 'C:\\\\Users\\\\nicom\\\\Untitled Folder\\\\fireDetencion\\\\Dataset\\\\train\\\\no_fire'",
     "output_type": "error",
     "traceback": [
      "\u001b[1;31m---------------------------------------------------------------------------\u001b[0m",
      "\u001b[1;31mFileNotFoundError\u001b[0m                         Traceback (most recent call last)",
      "Cell \u001b[1;32mIn[23], line 10\u001b[0m\n\u001b[0;32m      7\u001b[0m \u001b[38;5;66;03m# Crear la carpeta de salida si no existe\u001b[39;00m\n\u001b[0;32m      8\u001b[0m os\u001b[38;5;241m.\u001b[39mmakedirs(output_folder, exist_ok\u001b[38;5;241m=\u001b[39m\u001b[38;5;28;01mTrue\u001b[39;00m)\n\u001b[1;32m---> 10\u001b[0m \u001b[38;5;28;01mfor\u001b[39;00m image_name \u001b[38;5;129;01min\u001b[39;00m \u001b[43mos\u001b[49m\u001b[38;5;241;43m.\u001b[39;49m\u001b[43mlistdir\u001b[49m\u001b[43m(\u001b[49m\u001b[43minput_folder\u001b[49m\u001b[43m)\u001b[49m:\n\u001b[0;32m     11\u001b[0m     image_path \u001b[38;5;241m=\u001b[39m os\u001b[38;5;241m.\u001b[39mpath\u001b[38;5;241m.\u001b[39mjoin(input_folder, image_name)\n\u001b[0;32m     13\u001b[0m     \u001b[38;5;66;03m# Cargar la imagen\u001b[39;00m\n",
      "\u001b[1;31mFileNotFoundError\u001b[0m: [WinError 3] El sistema no puede encontrar la ruta especificada: 'C:\\\\Users\\\\nicom\\\\Untitled Folder\\\\fireDetencion\\\\Dataset\\\\train\\\\no_fire'"
     ]
    }
   ],
   "source": [
    "# Porcesaría las imagenes y las cargaría en el sistema\n",
    "import cv2\n",
    "import os\n",
    "\n",
    "input_folder = r\"C:\\Users\\nicom\\Untitled Folder\\fireDetencion\\Dataset\\train\\no_fire\"\n",
    "output_folder = r\"C:\\Users\\nicom\\Untitled Folder\\fireDetencion\\Dataset\\no_fire_procesado\"\n",
    "\n",
    "# Crea la carpeta de salida si no existe\n",
    "os.makedirs(output_folder, exist_ok=True)\n",
    "\n",
    "for image_name in os.listdir(input_folder):\n",
    "    image_path = os.path.join(input_folder, image_name)\n",
    "    \n",
    "    # Carga la imagen\n",
    "    img = cv2.imread(image_path)\n",
    "    \n",
    "    # Verifica si la imagen se cargó correctamente\n",
    "    if img is None:\n",
    "        print(f\"Error al cargar la imagen: {image_path}\")\n",
    "        continue\n",
    "    \n",
    "    # Cambia tamaño\n",
    "    resized_img = cv2.resize(img, (224, 224))\n",
    "    \n",
    "    # Guarda en la carpeta de salida\n",
    "    output_path = os.path.join(output_folder, image_name)\n",
    "    cv2.imwrite(output_path, resized_img)\n",
    "\n",
    "print(\"Procesamiento completado.\")\n",
    "\n"
   ]
  },
  {
   "cell_type": "code",
   "execution_count": 24,
   "id": "fcc91983",
   "metadata": {},
   "outputs": [
    {
     "name": "stdout",
     "output_type": "stream",
     "text": [
      "Found 10678 files belonging to 2 classes.\n"
     ]
    }
   ],
   "source": [
    "import tensorflow as tf\n",
    "\n",
    "# Rutas de las carpetas\n",
    "fire_folder = r\"C:\\Users\\nicom\\Untitled Folder\\fireDetencion\\Dataset\\procesado\"\n",
    "no_fire_folder = r\"C:\\Users\\nicom\\Untitled Folder\\fireDetencion\\Dataset\\no_fire_procesado\"\n",
    "\n",
    "# Carga las imágenes desde ambas carpetas\n",
    "dataset = tf.keras.utils.image_dataset_from_directory(\n",
    "    r\"C:\\Users\\nicom\\Untitled Folder\\fireDetencion\\Dataset\",\n",
    "    labels=\"inferred\",\n",
    "    label_mode=\"binary\",  # Clasificación binaria: fuego o no fuego\n",
    "    image_size=(224, 224),  # Tamaño de las imágenes\n",
    "    batch_size=32\n",
    ")\n"
   ]
  },
  {
   "cell_type": "code",
   "execution_count": 2,
   "id": "b4ebbbf8",
   "metadata": {},
   "outputs": [],
   "source": [
    "# Termina de procesar las imagenes y las normaliza de cara a entrenar el modelo\n",
    "train_size = int(0.8 * len(dataset))\n",
    "val_size = int(0.1 * len(dataset))\n",
    "test_size = len(dataset) - train_size - val_size\n",
    "\n",
    "train_ds = dataset.take(train_size)\n",
    "val_ds = dataset.skip(train_size).take(val_size)\n",
    "test_ds = dataset.skip(train_size + val_size)\n",
    "\n",
    "# Normalizar las imágenes (valores entre 0 y 1)\n",
    "def normalize(image, label):\n",
    "    image = tf.cast(image, tf.float32) / 255.0\n",
    "    return image, label\n",
    "\n",
    "train_ds = train_ds.map(normalize)\n",
    "val_ds = val_ds.map(normalize)\n",
    "test_ds = test_ds.map(normalize)"
   ]
  },
  {
   "cell_type": "code",
   "execution_count": 4,
   "id": "6fab41c9",
   "metadata": {},
   "outputs": [
    {
     "name": "stdout",
     "output_type": "stream",
     "text": [
      "Epoch 1/10\n",
      "\u001b[1m267/267\u001b[0m \u001b[32m━━━━━━━━━━━━━━━━━━━━\u001b[0m\u001b[37m\u001b[0m \u001b[1m117s\u001b[0m 434ms/step - accuracy: 0.8848 - loss: 1.6223 - val_accuracy: 0.9328 - val_loss: 0.2077\n",
      "Epoch 2/10\n",
      "\u001b[1m267/267\u001b[0m \u001b[32m━━━━━━━━━━━━━━━━━━━━\u001b[0m\u001b[37m\u001b[0m \u001b[1m114s\u001b[0m 425ms/step - accuracy: 0.9609 - loss: 0.1242 - val_accuracy: 0.9640 - val_loss: 0.1029\n",
      "Epoch 3/10\n",
      "\u001b[1m267/267\u001b[0m \u001b[32m━━━━━━━━━━━━━━━━━━━━\u001b[0m\u001b[37m\u001b[0m \u001b[1m115s\u001b[0m 429ms/step - accuracy: 0.9900 - loss: 0.0328 - val_accuracy: 0.9773 - val_loss: 0.0715\n",
      "Epoch 4/10\n",
      "\u001b[1m267/267\u001b[0m \u001b[32m━━━━━━━━━━━━━━━━━━━━\u001b[0m\u001b[37m\u001b[0m \u001b[1m115s\u001b[0m 430ms/step - accuracy: 0.9923 - loss: 0.0267 - val_accuracy: 0.9688 - val_loss: 0.1154\n",
      "Epoch 5/10\n",
      "\u001b[1m267/267\u001b[0m \u001b[32m━━━━━━━━━━━━━━━━━━━━\u001b[0m\u001b[37m\u001b[0m \u001b[1m115s\u001b[0m 431ms/step - accuracy: 0.9949 - loss: 0.0198 - val_accuracy: 0.9176 - val_loss: 0.2134\n",
      "Epoch 6/10\n",
      "\u001b[1m267/267\u001b[0m \u001b[32m━━━━━━━━━━━━━━━━━━━━\u001b[0m\u001b[37m\u001b[0m \u001b[1m122s\u001b[0m 457ms/step - accuracy: 0.9930 - loss: 0.0289 - val_accuracy: 0.9763 - val_loss: 0.0664\n",
      "Epoch 7/10\n",
      "\u001b[1m267/267\u001b[0m \u001b[32m━━━━━━━━━━━━━━━━━━━━\u001b[0m\u001b[37m\u001b[0m \u001b[1m126s\u001b[0m 471ms/step - accuracy: 0.9956 - loss: 0.0144 - val_accuracy: 0.9792 - val_loss: 0.0813\n",
      "Epoch 8/10\n",
      "\u001b[1m267/267\u001b[0m \u001b[32m━━━━━━━━━━━━━━━━━━━━\u001b[0m\u001b[37m\u001b[0m \u001b[1m129s\u001b[0m 480ms/step - accuracy: 0.9978 - loss: 0.0083 - val_accuracy: 0.9782 - val_loss: 0.0899\n",
      "Epoch 9/10\n",
      "\u001b[1m267/267\u001b[0m \u001b[32m━━━━━━━━━━━━━━━━━━━━\u001b[0m\u001b[37m\u001b[0m \u001b[1m128s\u001b[0m 480ms/step - accuracy: 0.9991 - loss: 0.0043 - val_accuracy: 0.9848 - val_loss: 0.0940\n",
      "Epoch 10/10\n",
      "\u001b[1m267/267\u001b[0m \u001b[32m━━━━━━━━━━━━━━━━━━━━\u001b[0m\u001b[37m\u001b[0m \u001b[1m122s\u001b[0m 457ms/step - accuracy: 0.9939 - loss: 0.0224 - val_accuracy: 0.9744 - val_loss: 0.1105\n"
     ]
    },
    {
     "data": {
      "text/plain": [
       "<keras.src.callbacks.history.History at 0x210c3080190>"
      ]
     },
     "execution_count": 4,
     "metadata": {},
     "output_type": "execute_result"
    }
   ],
   "source": [
    "from tensorflow.keras import Sequential\n",
    "from tensorflow.keras.layers import Conv2D, MaxPooling2D, Flatten, Dense, Input\n",
    "\n",
    "# Entrenamiento del modelo\n",
    "model = Sequential([\n",
    "    Input(shape=(224, 224, 3)),\n",
    "    Conv2D(32, (3, 3), activation='relu'),\n",
    "    MaxPooling2D(pool_size=(2, 2)),\n",
    "    Flatten(),\n",
    "    Dense(128, activation='relu'),\n",
    "    Dense(1, activation='sigmoid')\n",
    "])\n",
    "\n",
    "model.compile(optimizer='adam', loss='binary_crossentropy', metrics=['accuracy'])\n",
    "\n",
    "\n",
    "model.fit(train_ds, validation_data=val_ds, epochs=10)"
   ]
  },
  {
   "cell_type": "code",
   "execution_count": 25,
   "id": "c7b20e9b",
   "metadata": {},
   "outputs": [],
   "source": [
    "model.compile(optimizer='adam', loss='binary_crossentropy', metrics=['accuracy'])"
   ]
  },
  {
   "cell_type": "code",
   "execution_count": null,
   "id": "2a735c34",
   "metadata": {},
   "outputs": [],
   "source": [
    "# Para guardar el modelo\n",
    "model.save(\"fire_detection_model.h5\")"
   ]
  },
  {
   "cell_type": "code",
   "execution_count": 9,
   "id": "e0f1a4e8",
   "metadata": {},
   "outputs": [
    {
     "name": "stdout",
     "output_type": "stream",
     "text": [
      "\u001b[1m34/34\u001b[0m \u001b[32m━━━━━━━━━━━━━━━━━━━━\u001b[0m\u001b[37m\u001b[0m \u001b[1m5s\u001b[0m 64ms/step - accuracy: 0.9601 - loss: 0.1842\n",
      "Pérdida en el conjunto de prueba: 0.1680\n",
      "Precisión en el conjunto de prueba: 0.9638\n"
     ]
    }
   ],
   "source": [
    "# Para saber cuales son sus estadísticas finales\n",
    "test_loss, test_accuracy = model.evaluate(test_ds)\n",
    "print(f\"Pérdida en el conjunto de prueba: {test_loss:.4f}\")\n",
    "print(f\"Precisión en el conjunto de prueba: {test_accuracy:.4f}\")"
   ]
  },
  {
   "cell_type": "code",
   "execution_count": 10,
   "id": "20f3619b",
   "metadata": {},
   "outputs": [
    {
     "name": "stdout",
     "output_type": "stream",
     "text": [
      "Found 10678 images belonging to 2 classes.\n"
     ]
    }
   ],
   "source": [
    "# Pruebas para modificar algunas imagenes de prueba de cara a entrenar mejor el modelo\n",
    "from tensorflow.keras.preprocessing.image import ImageDataGenerator\n",
    "\n",
    "# Configurar aumentos\n",
    "data_gen = ImageDataGenerator(\n",
    "    rotation_range=20,          # Rotar imágenes hasta 20 grados\n",
    "    width_shift_range=0.1,      # Desplazar horizontalmente hasta el 10%\n",
    "    height_shift_range=0.1,     # Desplazar verticalmente hasta el 10%\n",
    "    brightness_range=(0.8, 1.2), # Variar brillo entre 80% y 120%\n",
    "    zoom_range=0.2,             # Acercar o alejar hasta el 20%\n",
    "    horizontal_flip=True        # Voltear horizontalmente\n",
    ")\n",
    "\n",
    "# Generar datos aumentados desde una carpeta de imágenes\n",
    "train_generator = data_gen.flow_from_directory(\n",
    "    r\"C:\\Users\\nicom\\Untitled Folder\\fireDetencion\\Dataset\",\n",
    "    target_size=(224, 224),\n",
    "    batch_size=32,\n",
    "    class_mode=\"binary\"\n",
    ")\n"
   ]
  },
  {
   "cell_type": "code",
   "execution_count": 15,
   "id": "3d7e9369",
   "metadata": {},
   "outputs": [
    {
     "name": "stdout",
     "output_type": "stream",
     "text": [
      "\u001b[1m1/1\u001b[0m \u001b[32m━━━━━━━━━━━━━━━━━━━━\u001b[0m\u001b[37m\u001b[0m \u001b[1m0s\u001b[0m 52ms/step\n",
      "F_0.jpg: FUEGO detectado con probabilidad de 100.00%\n",
      "\u001b[1m1/1\u001b[0m \u001b[32m━━━━━━━━━━━━━━━━━━━━\u001b[0m\u001b[37m\u001b[0m \u001b[1m0s\u001b[0m 48ms/step\n",
      "F_1.jpg: FUEGO detectado con probabilidad de 100.00%\n",
      "\u001b[1m1/1\u001b[0m \u001b[32m━━━━━━━━━━━━━━━━━━━━\u001b[0m\u001b[37m\u001b[0m \u001b[1m0s\u001b[0m 48ms/step\n",
      "F_10.jpg: SIN FUEGO detectado con probabilidad de 99.99%\n",
      "\u001b[1m1/1\u001b[0m \u001b[32m━━━━━━━━━━━━━━━━━━━━\u001b[0m\u001b[37m\u001b[0m \u001b[1m0s\u001b[0m 52ms/step\n",
      "F_11.jpg: FUEGO detectado con probabilidad de 100.00%\n",
      "\u001b[1m1/1\u001b[0m \u001b[32m━━━━━━━━━━━━━━━━━━━━\u001b[0m\u001b[37m\u001b[0m \u001b[1m0s\u001b[0m 48ms/step\n",
      "F_12.jpg: FUEGO detectado con probabilidad de 100.00%\n",
      "\u001b[1m1/1\u001b[0m \u001b[32m━━━━━━━━━━━━━━━━━━━━\u001b[0m\u001b[37m\u001b[0m \u001b[1m0s\u001b[0m 48ms/step\n",
      "F_13.jpg: FUEGO detectado con probabilidad de 100.00%\n",
      "\u001b[1m1/1\u001b[0m \u001b[32m━━━━━━━━━━━━━━━━━━━━\u001b[0m\u001b[37m\u001b[0m \u001b[1m0s\u001b[0m 60ms/step\n",
      "F_14.jpg: FUEGO detectado con probabilidad de 100.00%\n",
      "\u001b[1m1/1\u001b[0m \u001b[32m━━━━━━━━━━━━━━━━━━━━\u001b[0m\u001b[37m\u001b[0m \u001b[1m0s\u001b[0m 60ms/step\n",
      "F_15.jpg: FUEGO detectado con probabilidad de 100.00%\n",
      "\u001b[1m1/1\u001b[0m \u001b[32m━━━━━━━━━━━━━━━━━━━━\u001b[0m\u001b[37m\u001b[0m \u001b[1m0s\u001b[0m 64ms/step\n",
      "F_16.jpg: FUEGO detectado con probabilidad de 100.00%\n",
      "\u001b[1m1/1\u001b[0m \u001b[32m━━━━━━━━━━━━━━━━━━━━\u001b[0m\u001b[37m\u001b[0m \u001b[1m0s\u001b[0m 48ms/step\n",
      "F_17.jpg: FUEGO detectado con probabilidad de 100.00%\n",
      "\u001b[1m1/1\u001b[0m \u001b[32m━━━━━━━━━━━━━━━━━━━━\u001b[0m\u001b[37m\u001b[0m \u001b[1m0s\u001b[0m 52ms/step\n",
      "F_18.jpg: FUEGO detectado con probabilidad de 55.84%\n",
      "\u001b[1m1/1\u001b[0m \u001b[32m━━━━━━━━━━━━━━━━━━━━\u001b[0m\u001b[37m\u001b[0m \u001b[1m0s\u001b[0m 60ms/step\n",
      "F_19.jpg: FUEGO detectado con probabilidad de 100.00%\n",
      "\u001b[1m1/1\u001b[0m \u001b[32m━━━━━━━━━━━━━━━━━━━━\u001b[0m\u001b[37m\u001b[0m \u001b[1m0s\u001b[0m 56ms/step\n",
      "F_2.jpg: FUEGO detectado con probabilidad de 100.00%\n",
      "\u001b[1m1/1\u001b[0m \u001b[32m━━━━━━━━━━━━━━━━━━━━\u001b[0m\u001b[37m\u001b[0m \u001b[1m0s\u001b[0m 60ms/step\n",
      "F_20.jpg: SIN FUEGO detectado con probabilidad de 84.05%\n",
      "\u001b[1m1/1\u001b[0m \u001b[32m━━━━━━━━━━━━━━━━━━━━\u001b[0m\u001b[37m\u001b[0m \u001b[1m0s\u001b[0m 56ms/step\n",
      "F_21.jpg: FUEGO detectado con probabilidad de 100.00%\n",
      "\u001b[1m1/1\u001b[0m \u001b[32m━━━━━━━━━━━━━━━━━━━━\u001b[0m\u001b[37m\u001b[0m \u001b[1m0s\u001b[0m 52ms/step\n",
      "F_22.jpg: FUEGO detectado con probabilidad de 100.00%\n",
      "\u001b[1m1/1\u001b[0m \u001b[32m━━━━━━━━━━━━━━━━━━━━\u001b[0m\u001b[37m\u001b[0m \u001b[1m0s\u001b[0m 48ms/step\n",
      "F_23.jpg: FUEGO detectado con probabilidad de 100.00%\n",
      "\u001b[1m1/1\u001b[0m \u001b[32m━━━━━━━━━━━━━━━━━━━━\u001b[0m\u001b[37m\u001b[0m \u001b[1m0s\u001b[0m 48ms/step\n",
      "F_24.jpg: FUEGO detectado con probabilidad de 100.00%\n",
      "\u001b[1m1/1\u001b[0m \u001b[32m━━━━━━━━━━━━━━━━━━━━\u001b[0m\u001b[37m\u001b[0m \u001b[1m0s\u001b[0m 48ms/step\n",
      "F_3.jpg: FUEGO detectado con probabilidad de 99.99%\n",
      "\u001b[1m1/1\u001b[0m \u001b[32m━━━━━━━━━━━━━━━━━━━━\u001b[0m\u001b[37m\u001b[0m \u001b[1m0s\u001b[0m 52ms/step\n",
      "F_4.jpg: SIN FUEGO detectado con probabilidad de 95.39%\n",
      "\u001b[1m1/1\u001b[0m \u001b[32m━━━━━━━━━━━━━━━━━━━━\u001b[0m\u001b[37m\u001b[0m \u001b[1m0s\u001b[0m 56ms/step\n",
      "F_5.jpg: FUEGO detectado con probabilidad de 99.71%\n",
      "\u001b[1m1/1\u001b[0m \u001b[32m━━━━━━━━━━━━━━━━━━━━\u001b[0m\u001b[37m\u001b[0m \u001b[1m0s\u001b[0m 56ms/step\n",
      "F_6.jpg: FUEGO detectado con probabilidad de 91.86%\n",
      "\u001b[1m1/1\u001b[0m \u001b[32m━━━━━━━━━━━━━━━━━━━━\u001b[0m\u001b[37m\u001b[0m \u001b[1m0s\u001b[0m 52ms/step\n",
      "F_7.jpg: FUEGO detectado con probabilidad de 99.01%\n",
      "\u001b[1m1/1\u001b[0m \u001b[32m━━━━━━━━━━━━━━━━━━━━\u001b[0m\u001b[37m\u001b[0m \u001b[1m0s\u001b[0m 64ms/step\n",
      "F_8.jpg: FUEGO detectado con probabilidad de 100.00%\n",
      "\u001b[1m1/1\u001b[0m \u001b[32m━━━━━━━━━━━━━━━━━━━━\u001b[0m\u001b[37m\u001b[0m \u001b[1m0s\u001b[0m 58ms/step\n",
      "F_9.jpg: FUEGO detectado con probabilidad de 100.00%\n"
     ]
    }
   ],
   "source": [
    "import os\n",
    "import numpy as np\n",
    "from tensorflow.keras.preprocessing.image import load_img, img_to_array\n",
    "from tensorflow.keras.models import load_model\n",
    "\n",
    "# Para procesar varias imagenes a la vez\n",
    "test_folder = r\"C:\\Users\\nicom\\Untitled Folder\\fireDetencion\\test\\fire\"\n",
    "\n",
    "for image_name in os.listdir(test_folder):\n",
    "    image_path = os.path.join(test_folder, image_name)\n",
    "    img = load_img(image_path, target_size=(224, 224))\n",
    "    img_array = img_to_array(img) / 255.0\n",
    "    img_array = np.expand_dims(img_array, axis=0)\n",
    "    \n",
    "    prediction = model.predict(img_array)\n",
    "    if prediction[0][0] > 0.5:\n",
    "        print(f\"{image_name}: FUEGO detectado con probabilidad de {prediction[0][0] * 100:.2f}%\")\n",
    "    else:\n",
    "        print(f\"{image_name}: SIN FUEGO detectado con probabilidad de {(1 - prediction[0][0]) * 100:.2f}%\")\n"
   ]
  },
  {
   "cell_type": "code",
   "execution_count": null,
   "id": "2dc8dc7c",
   "metadata": {},
   "outputs": [],
   "source": []
  }
 ],
 "metadata": {
  "kernelspec": {
   "display_name": "Python 3 (ipykernel)",
   "language": "python",
   "name": "python3"
  },
  "language_info": {
   "codemirror_mode": {
    "name": "ipython",
    "version": 3
   },
   "file_extension": ".py",
   "mimetype": "text/x-python",
   "name": "python",
   "nbconvert_exporter": "python",
   "pygments_lexer": "ipython3",
   "version": "3.11.5"
  }
 },
 "nbformat": 4,
 "nbformat_minor": 5
}
